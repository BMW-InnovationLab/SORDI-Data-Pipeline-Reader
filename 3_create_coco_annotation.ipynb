{
 "cells": [
  {
   "cell_type": "code",
   "execution_count": 1,
   "id": "3bf00648",
   "metadata": {},
   "outputs": [],
   "source": [
    "import sqlite3\n",
    "import json"
   ]
  },
  {
   "cell_type": "code",
   "execution_count": 2,
   "id": "167ff06f",
   "metadata": {},
   "outputs": [],
   "source": [
    "!rm sordi.coco"
   ]
  },
  {
   "cell_type": "code",
   "execution_count": 3,
   "id": "d2990892",
   "metadata": {},
   "outputs": [],
   "source": [
    "import numpy as np                                 # (pip install numpy)\n",
    "\n",
    "def create_sub_mask_annotation(image_id, category_id, annotation_id, bbox, is_crowd):\n",
    "   \n",
    "    annotation = {\n",
    "        'iscrowd': is_crowd,  # dont need\n",
    "        'image_id': image_id, # pointing to an image entry (see below)\n",
    "        'category_id': category_id,   # that is the label of the object, see id field from \"category\" below\n",
    "        'id': annotation_id,   \n",
    "        'bbox': bbox    # the bbox as 4-tuple\n",
    "    }\n",
    "\n",
    "    return annotation\n",
    "\n",
    "def create_image_entry(image_id, file_name, width, height):\n",
    "    \n",
    "    image_entry = {\n",
    "        'id': image_id,   # unique, annotations \"image_id\" field are pointing to this one\n",
    "        'width': width,   # framesize, annotations are in pixelcoords\n",
    "        'height': height,\n",
    "        'file_name': file_name\n",
    "    }\n",
    "    \n",
    "    return image_entry\n",
    "\n",
    "def create_category_entry(obj_id, obj_name):\n",
    "    \n",
    "    category_entry = {\n",
    "        'id': obj_id,\n",
    "        'name': obj_name\n",
    "    }\n",
    "    \n",
    "    return category_entry\n",
    "    "
   ]
  },
  {
   "cell_type": "code",
   "execution_count": 4,
   "id": "37e63009",
   "metadata": {},
   "outputs": [],
   "source": [
    "annotations = []\n",
    "images = []\n",
    "categories = []"
   ]
  },
  {
   "cell_type": "code",
   "execution_count": 5,
   "id": "b4caa60b",
   "metadata": {},
   "outputs": [],
   "source": [
    "def create_connection(db_file):\n",
    "    conn = None\n",
    "    try:\n",
    "        conn = sqlite3.connect(db_file)\n",
    "    except Error as e:\n",
    "        print(e)\n",
    "\n",
    "    return conn\n",
    "\n",
    "def iterate_through_db(conn):\n",
    "    category = {}\n",
    "    \n",
    "    sql = '''SELECT ROWID,* FROM FRAME ''' # ROWID is image_id below\n",
    "    cur = conn.cursor()\n",
    "    cur.execute(sql)\n",
    "    \n",
    "    annotation_id = 0\n",
    "    \n",
    "    for r in cur:\n",
    "        (image_id, fname, label_json, w, h, uncertainty) = r  \n",
    "\n",
    "        images.append(create_image_entry(image_id, fname, w, h))\n",
    "        \n",
    "        for lj in json.loads(label_json):\n",
    "            (l,t,r,b) = (lj['Left'], lj['Top'], lj['Right'], lj['Bottom'])\n",
    "            \n",
    "            bbox = (l, t, r-l, b-t)\n",
    "            annotations.append(create_sub_mask_annotation(image_id, lj['ObjectClassId'], annotation_id , bbox, 0))\n",
    "            \n",
    "            ++annotation_id\n",
    "            \n",
    "            if lj['ObjectClassId'] in category: # category.keys()\n",
    "                pass\n",
    "            else:\n",
    "                category[lj['ObjectClassId']] = lj['ObjectClassName']\n",
    "           \n",
    "    for k in category:\n",
    "        categories.append(create_category_entry(k, category[k]))\n",
    "        \n",
    "    print(categories)"
   ]
  },
  {
   "cell_type": "code",
   "execution_count": 6,
   "id": "326f06ce",
   "metadata": {},
   "outputs": [
    {
     "name": "stdout",
     "output_type": "stream",
     "text": [
      "[{'id': 2000, 'name': 'bicycle'}, {'id': 1040, 'name': 'cabinet'}, {'id': 1110, 'name': 'dolly'}, {'id': 2010, 'name': 'forklift'}, {'id': 1120, 'name': 'jack'}, {'id': 1030, 'name': 'locker'}, {'id': 1100, 'name': 'pallet'}, {'id': 2050, 'name': 'str'}, {'id': 5010, 'name': 'fire_extinguisher'}, {'id': 1070, 'name': 'cardboard_box'}, {'id': 1011, 'name': 'l_klt_4147'}, {'id': 1003, 'name': 'stillage_open'}, {'id': 1002, 'name': 'stillage_close'}, {'id': 1013, 'name': 'l_klt_8210'}, {'id': 1012, 'name': 'l_klt_6147'}, {'id': 1135, 'name': 'spring_post'}, {'id': 4000, 'name': 'exit_sign'}]\n"
     ]
    }
   ],
   "source": [
    "conn = create_connection(\"SORDI.sqlite\")\n",
    "\n",
    "iterate_through_db(conn)"
   ]
  },
  {
   "cell_type": "code",
   "execution_count": 7,
   "id": "79f283e6",
   "metadata": {},
   "outputs": [],
   "source": [
    "coco = json.dumps({'info': {\"description\": \"SORDI 2022\"}, 'categories': categories, 'annotations': annotations, 'images': images}, indent=4)\n",
    "\n",
    "with open(\"sordi.coco\", 'w') as file:\n",
    "    file.write(coco)"
   ]
  }
 ],
 "metadata": {
  "kernelspec": {
   "display_name": "Python 3 (ipykernel)",
   "language": "python",
   "name": "python3"
  },
  "language_info": {
   "codemirror_mode": {
    "name": "ipython",
    "version": 3
   },
   "file_extension": ".py",
   "mimetype": "text/x-python",
   "name": "python",
   "nbconvert_exporter": "python",
   "pygments_lexer": "ipython3",
   "version": "3.8.13"
  }
 },
 "nbformat": 4,
 "nbformat_minor": 5
}
