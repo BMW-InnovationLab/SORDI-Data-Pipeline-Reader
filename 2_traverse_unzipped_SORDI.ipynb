{
 "cells": [
  {
   "cell_type": "code",
   "execution_count": null,
   "id": "cbac9f19",
   "metadata": {},
   "outputs": [],
   "source": [
    "from curses.ascii import SO\n",
    "import json\n",
    "import os\n",
    "import sqlite3\n",
    "from sqlite3 import Error\n",
    "from re import S\n",
    "import regex as re\n",
    "import imagesize"
   ]
  },
  {
   "cell_type": "code",
   "execution_count": null,
   "id": "e7942f5f",
   "metadata": {},
   "outputs": [],
   "source": [
    "SORDI_home = \"/SORDI\"\n",
    "SORDI_folders = []"
   ]
  },
  {
   "cell_type": "code",
   "execution_count": null,
   "id": "932cd692",
   "metadata": {},
   "outputs": [],
   "source": [
    "!rm SORDI.sqlite"
   ]
  },
  {
   "cell_type": "code",
   "execution_count": null,
   "id": "75c26ae8",
   "metadata": {
    "lines_to_next_cell": 1
   },
   "outputs": [],
   "source": [
    "conn = None"
   ]
  },
  {
   "cell_type": "code",
   "execution_count": null,
   "id": "e60cdb11",
   "metadata": {
    "lines_to_next_cell": 1
   },
   "outputs": [],
   "source": [
    "def open_json(filepath):\n",
    "    # Opening JSON file\n",
    "    f = open(filepath)\n",
    "    \n",
    "    data = json.load(f)\n",
    "    f.close()\n",
    "\n",
    "    return data"
   ]
  },
  {
   "cell_type": "code",
   "execution_count": null,
   "id": "e9074735",
   "metadata": {
    "lines_to_next_cell": 1
   },
   "outputs": [],
   "source": [
    "def get_concrete_path(directory_in_str, pattern):\n",
    "    directory = os.fsencode(directory_in_str)\n",
    "    \n",
    "    ret_value = None\n",
    "\n",
    "    for file in os.listdir(directory):\n",
    "        filename = os.fsdecode(file)\n",
    "        if filename.startswith(pattern):\n",
    "            full_path = os.path.join(os.fsdecode(directory), filename)\n",
    "            \n",
    "            ret_value = full_path\n",
    "    \n",
    "    return ret_value"
   ]
  },
  {
   "cell_type": "code",
   "execution_count": null,
   "id": "3a3d7b50",
   "metadata": {},
   "outputs": [],
   "source": [
    "def traverse_sordi_dirs(directory_in_str, conn):\n",
    "    directory = os.fsencode(directory_in_str)\n",
    "    \n",
    "    labels = {}\n",
    "    frames = {}\n",
    "\n",
    "    def just_the_number(fname):\n",
    "        m = re.findall('[a-zA-Z0-9_]+\\.', fname)\n",
    "\n",
    "        if len(m) == 1:\n",
    "            return m[0]\n",
    "            \n",
    "        return None\n",
    "\n",
    "    def trav (directory):\n",
    "        traversed = {}\n",
    "\n",
    "        for subdir, dirs, files in os.walk(directory):\n",
    "            for file in files:\n",
    "                filepath = os.fsdecode(os.path.join(subdir, file)) #os.fsdecode(file)\n",
    "\n",
    "                if filepath.endswith(\".json\") or filepath.endswith(\".jpg\"): \n",
    "                    #print(os.path.join(os.fsdecode(directory), filepath))\n",
    "                    numb = just_the_number(filepath)\n",
    "                    \n",
    "                    if numb:\n",
    "                        traversed[numb] = filepath\n",
    "\n",
    "                else:\n",
    "                    continue\n",
    "        return traversed\n",
    "\n",
    "    frames = trav(os.path.join(directory_in_str, \"images\"))\n",
    "    labels = trav(os.path.join(directory_in_str, \"labels/json\"))\n",
    "\n",
    "    print(len(frames), len(labels))\n",
    "\n",
    "    for key in frames:\n",
    "        w,h = imagesize.get(frames[key])\n",
    "        #print(w,h)\n",
    "\n",
    "        label_json = open_json(labels[key])\n",
    "        #print(label_json)\n",
    "\n",
    "        print(frames[key], labels[key])\n",
    "        \n",
    "        create_training_frame(conn, (frames[key], json.dumps(label_json), w,h, 0.0))\n",
    "\n",
    "        pass"
   ]
  },
  {
   "cell_type": "code",
   "execution_count": null,
   "id": "f10e78f3",
   "metadata": {
    "lines_to_next_cell": 1
   },
   "outputs": [],
   "source": [
    "def create_connection(db_file):\n",
    "\n",
    "    conn = None\n",
    "    try:\n",
    "        conn = sqlite3.connect(db_file)\n",
    "    except Error as e:\n",
    "        print(e)\n",
    "\n",
    "    return conn"
   ]
  },
  {
   "cell_type": "code",
   "execution_count": null,
   "id": "cf122244",
   "metadata": {
    "lines_to_next_cell": 1
   },
   "outputs": [],
   "source": [
    "def create_sql_tables(conn):\n",
    "    \n",
    "    table = \"\"\" CREATE TABLE FRAME (\n",
    "            path_to_file VARCHAR(255) NOT NULL,\n",
    "            labels json,\n",
    "            width INT,\n",
    "            height INT,\n",
    "            uncertainty_score FLOAT\n",
    "        ); \"\"\"\n",
    "    \n",
    "    cur = conn.cursor()\n",
    "    cur.execute(table)\n",
    "    conn.commit()\n",
    "\n",
    "    return cur.lastrowid"
   ]
  },
  {
   "cell_type": "code",
   "execution_count": null,
   "id": "fb9360e2",
   "metadata": {
    "lines_to_next_cell": 1
   },
   "outputs": [],
   "source": [
    "def create_training_frame(conn, task):\n",
    "    \n",
    "    sql = ''' INSERT INTO FRAME(path_to_file, labels, width, height, uncertainty_score)\n",
    "              VALUES(?,?,?,?,?) '''\n",
    "    \n",
    "    cur = conn.cursor()\n",
    "    cur.execute(sql, task)\n",
    "    #conn.commit()\n",
    "\n",
    "    return cur.lastrowid"
   ]
  },
  {
   "cell_type": "code",
   "execution_count": null,
   "id": "6ea33a18",
   "metadata": {
    "lines_to_next_cell": 1
   },
   "outputs": [],
   "source": [
    "def create_label_db():\n",
    "\n",
    "    conn = create_connection(\"SORDI.sqlite\")\n",
    "\n",
    "    try:\n",
    "        create_sql_tables(conn)\n",
    "    except Error as e:\n",
    "        print(e)\n",
    "\n",
    "    data = open_json('/SORDI/config.json')\n",
    "\n",
    "    for i in data:\n",
    "        #print(i['dataset_id'])\n",
    "        #SORDI_folders.append(i['dataset_id'])\n",
    "        SORDI_folders.append(i)\n",
    "\n",
    "    for f in SORDI_folders:\n",
    "        ret = get_concrete_path(SORDI_home, f['dataset_id'])\n",
    "\n",
    "        if ret:\n",
    "            print(f)\n",
    "            print(ret)\n",
    "\n",
    "            traverse_sordi_dirs(ret, conn)\n",
    "\n",
    "        else:\n",
    "            print(\"Missing directory - no match found for {}\".format(f['dataset_id']))\n",
    "\n",
    "    conn.commit()\n",
    "    conn.close()"
   ]
  },
  {
   "cell_type": "code",
   "execution_count": null,
   "id": "20b12d4d",
   "metadata": {},
   "outputs": [],
   "source": [
    "create_label_db()"
   ]
  },
  {
   "cell_type": "code",
   "execution_count": null,
   "id": "8c5109c3",
   "metadata": {},
   "outputs": [],
   "source": [
    "!ls"
   ]
  }
 ],
 "metadata": {
  "jupytext": {
   "cell_metadata_filter": "-all",
   "main_language": "python",
   "notebook_metadata_filter": "-all"
  },
  "kernelspec": {
   "display_name": "Python 3 (ipykernel)",
   "language": "python",
   "name": "python3"
  },
  "language_info": {
   "codemirror_mode": {
    "name": "ipython",
    "version": 3
   },
   "file_extension": ".py",
   "mimetype": "text/x-python",
   "name": "python",
   "nbconvert_exporter": "python",
   "pygments_lexer": "ipython3",
   "version": "3.8.13"
  }
 },
 "nbformat": 4,
 "nbformat_minor": 5
}
