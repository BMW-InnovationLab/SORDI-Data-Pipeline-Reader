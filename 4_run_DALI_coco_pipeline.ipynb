{
 "cells": [
  {
   "cell_type": "code",
   "execution_count": null,
   "id": "50dd4ba3",
   "metadata": {},
   "outputs": [],
   "source": [
    "from nvidia.dali.pipeline import Pipeline\n",
    "import nvidia.dali.fn as fn\n",
    "import nvidia.dali.types as types\n",
    "import numpy as np\n",
    "import os.path"
   ]
  },
  {
   "cell_type": "code",
   "execution_count": null,
   "id": "850215de",
   "metadata": {},
   "outputs": [],
   "source": [
    "test_data_root = \"/SORDI\"\n",
    "\n",
    "batch_size = 16"
   ]
  },
  {
   "cell_type": "code",
   "execution_count": null,
   "id": "a8daa2b8",
   "metadata": {},
   "outputs": [],
   "source": [
    "pipe = Pipeline(batch_size=batch_size, num_threads=4, device_id=0)\n",
    "with pipe:\n",
    "    jpegs, bboxes, labels = fn.readers.coco(\n",
    "        file_root=\"/\",\n",
    "        annotations_file=\"sordi.coco\",\n",
    "        #\n",
    "        #polygon_masks=True,\n",
    "        ratio=True)\n",
    "    \n",
    "    # image decompression, jpegs are done on GPU\n",
    "    images = fn.decoders.image(jpegs, device=\"mixed\", output_type=types.RGB) # mixed means input is CPU, output goes on GPU\n",
    "    \n",
    "    # Your augmentation can go here\n",
    "    # Note, here num_threads is set to 4 CPU data loading threads. If more work is done here adapt it to CPU threads\n",
    "    \n",
    "    # You want those things to be prepared when calling pipe.run() later\n",
    "    pipe.set_outputs(images, bboxes, labels) #, polygons, vertices)"
   ]
  },
  {
   "cell_type": "code",
   "execution_count": null,
   "id": "9d70100a",
   "metadata": {
    "lines_to_next_cell": 2
   },
   "outputs": [],
   "source": [
    "pipe.build()\n",
    "pipe_out = pipe.run() # Note: Some of them are of type TensorListGPU, thus they require a .as_cpu() to get them visualized"
   ]
  },
  {
   "cell_type": "code",
   "execution_count": null,
   "id": "4ed49fee",
   "metadata": {},
   "outputs": [],
   "source": [
    "images_cpu = pipe_out[0].as_cpu()\n",
    "bboxes_cpu = pipe_out[1]\n",
    "labels_cpu = pipe_out[2]\n",
    "#polygons_cpu = pipe_out[3]\n",
    "#vertices_cpu = pipe_out[4]"
   ]
  },
  {
   "cell_type": "code",
   "execution_count": null,
   "id": "0b7e82ea",
   "metadata": {},
   "outputs": [],
   "source": [
    "bboxes = bboxes_cpu.at(4)\n",
    "labels = labels_cpu.at(4)\n",
    "\n",
    "for bbox, label in zip(bboxes, labels):\n",
    "    x, y, width, height = bbox\n",
    "    print(f\"Bounding box (x={x}, y={y}, width={width}, height={height}), label={label}\")"
   ]
  },
  {
   "cell_type": "markdown",
   "id": "f93a04c4",
   "metadata": {},
   "source": [
    "\"\"\"\n",
    "for polygon in polygons:\n",
    "    mask_idx, start_vertex, end_vertex = polygon\n",
    "    nvertices = end_vertex - start_vertex\n",
    "    print(f\"Polygon belonging to mask index {mask_idx} containing {nvertices} vertices:\")\n",
    "    polygon_vertices = vertices[start_vertex:end_vertex]\n",
    "    for vertex_id in range(nvertices):\n",
    "        x, y = vertices[vertex_id]\n",
    "        print(f\"Vertex {vertex_id}: x={x}, y={y}\")\n",
    "\"\"\""
   ]
  },
  {
   "cell_type": "code",
   "execution_count": null,
   "id": "6755b0ca",
   "metadata": {},
   "outputs": [],
   "source": [
    "import matplotlib.pyplot as plt\n",
    "import matplotlib.patches as patches\n",
    "import random"
   ]
  },
  {
   "cell_type": "code",
   "execution_count": null,
   "id": "bd0db438",
   "metadata": {
    "lines_to_next_cell": 1
   },
   "outputs": [],
   "source": [
    "random.seed(12343)"
   ]
  },
  {
   "cell_type": "code",
   "execution_count": null,
   "id": "78b5111e",
   "metadata": {
    "lines_to_next_cell": 1
   },
   "outputs": [],
   "source": [
    "def plot_sample(img_index, ax):\n",
    "    img = images_cpu.at(img_index)\n",
    "\n",
    "    H = img.shape[0]\n",
    "    W = img.shape[1]\n",
    "\n",
    "    ax.imshow(img)\n",
    "    bboxes = bboxes_cpu.at(img_index)\n",
    "    labels = labels_cpu.at(img_index)\n",
    "    \n",
    "    categories_set = set()\n",
    "    \n",
    "    for label in labels:\n",
    "        categories_set.add(label)\n",
    "\n",
    "    category_id_to_color = dict([(cat_id , [random.uniform(0, 1), random.uniform(0, 1), random.uniform(0, 1)]) for cat_id in categories_set])\n",
    "\n",
    "    for bbox, label in zip(bboxes, labels):\n",
    "        rect = patches.Rectangle((bbox[0] * W,bbox[1] * H), bbox[2] * W,bbox[3] * H,\n",
    "                                 linewidth=1, edgecolor=category_id_to_color[label], facecolor='none')\n",
    "        ax.add_patch(rect)"
   ]
  },
  {
   "cell_type": "code",
   "execution_count": null,
   "id": "26894091",
   "metadata": {},
   "outputs": [],
   "source": [
    "#visualize the first loads from above\n",
    "\n",
    "fig, ax = plt.subplots(2, 2, figsize=(12, 12))\n",
    "fig.tight_layout()\n",
    "plot_sample(2, ax[0, 0])\n",
    "plot_sample(1, ax[0, 1])\n",
    "plot_sample(4, ax[1, 0])\n",
    "plot_sample(8, ax[1, 1])\n",
    "plt.show()"
   ]
  },
  {
   "cell_type": "code",
   "execution_count": null,
   "id": "a029b983",
   "metadata": {},
   "outputs": [],
   "source": [
    "#Let the pipeline run\n",
    "\n",
    "for i in range(10):\n",
    "    pipe_out = pipe.run()\n",
    "    \n",
    "    images_cpu = pipe_out[0].as_cpu()\n",
    "    bboxes_cpu = pipe_out[1]\n",
    "    labels_cpu = pipe_out[2]\n",
    "    \n",
    "    fig, ax = plt.subplots(2, 2, figsize=(12, 12))\n",
    "    fig.tight_layout()\n",
    "    plot_sample(2, ax[0, 0])\n",
    "    plot_sample(1, ax[0, 1])\n",
    "    plot_sample(4, ax[1, 0])\n",
    "    plot_sample(8, ax[1, 1])\n",
    "    plt.show()\n",
    "    "
   ]
  }
 ],
 "metadata": {
  "jupytext": {
   "cell_metadata_filter": "-all",
   "main_language": "python",
   "notebook_metadata_filter": "-all"
  },
  "kernelspec": {
   "display_name": "Python 3 (ipykernel)",
   "language": "python",
   "name": "python3"
  },
  "language_info": {
   "codemirror_mode": {
    "name": "ipython",
    "version": 3
   },
   "file_extension": ".py",
   "mimetype": "text/x-python",
   "name": "python",
   "nbconvert_exporter": "python",
   "pygments_lexer": "ipython3",
   "version": "3.8.13"
  }
 },
 "nbformat": 4,
 "nbformat_minor": 5
}
